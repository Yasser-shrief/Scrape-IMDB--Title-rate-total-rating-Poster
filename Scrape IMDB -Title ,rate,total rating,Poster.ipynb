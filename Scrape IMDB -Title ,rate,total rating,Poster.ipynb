{
 "cells": [
  {
   "cell_type": "code",
   "execution_count": 75,
   "metadata": {},
   "outputs": [],
   "source": [
    "from bs4 import BeautifulSoup\n",
    "import requests\n",
    "import pandas as pd\n",
    "\n",
    "#create empty dict to save our data in CSV file\n",
    "our_data={}\n",
    "\n",
    "#to read data from excel file to Python list\n",
    "#the IMDB dataset locate in my E disk\n",
    "df1 = pd.read_excel('E:\\IMDB-dataset.xlsx') # can also index sheet by name or fetch all sheets\n",
    "movie_list = list(df1['Movie']) \n",
    "\n",
    "url='https://www.imdb.com/find?'\n",
    "for movie in movie_list:\n",
    "    \n",
    "    moviename={'q':movie,\n",
    "              'ref_':'nv_sr_sm'}\n",
    "\n",
    "    response=requests.get(url,params=moviename)\n",
    "    data=response.text\n",
    "    soup=BeautifulSoup(data,'html.parser')\n",
    "    soup1=BeautifulSoup(data,'html.parser')\n",
    "    #scrape the Poster URL\n",
    "     \n",
    "    contaniers1=soup1.find_all('div',attrs={'class':'minPosterWithPlotSummaryHeight'})\n",
    "    if contaniers1:\n",
    "        for link in contaniers1:\n",
    "            url1=link.find('img').get('src')\n",
    "            #print(url1)\n",
    "    else:\n",
    "        contaniers1=soup.find_all('div',attrs={'class':'slate_wrapper'})\n",
    "        for link in contaniers1:\n",
    "            url1=link.find('img').get('src')\n",
    "            #print(url1) \n",
    "    contaniers=soup.find_all('div',attrs={'class':'title_block'})\n",
    "    for x in contaniers:\n",
    "        rate = x.find('span',attrs={'itemprop':'ratingValue'}).text\n",
    "        #print(rate)\n",
    "        all_rate=x.find_all('a')\n",
    "        total_rate=all_rate[0].find('span',{'class':'small'}).text\n",
    "        #print(total_rate) \n",
    "        title=x.find('h1').text\n",
    "        #print(title)\n",
    "        \n",
    "        #collect all data inside the dict\n",
    "        our_data[movie]=[title,rate,total_rate,url1]\n",
    "        #print(title,'-----',rate,'------',url1)\n",
    "    \n",
    "    \n",
    "#create a table by Pandas library         \n",
    "TV=pd.DataFrame.from_dict(our_data , orient='index',columns=['Name','rate','total_rate','Poster'])\n",
    "#Save it in CSV file\n",
    "TV.to_csv('IMDB1.csv',encoding='utf-8')\n"
   ]
  },
  {
   "cell_type": "code",
   "execution_count": null,
   "metadata": {},
   "outputs": [],
   "source": [
    "\n"
   ]
  },
  {
   "cell_type": "code",
   "execution_count": null,
   "metadata": {},
   "outputs": [],
   "source": []
  },
  {
   "cell_type": "code",
   "execution_count": null,
   "metadata": {},
   "outputs": [],
   "source": []
  },
  {
   "cell_type": "code",
   "execution_count": null,
   "metadata": {},
   "outputs": [],
   "source": []
  },
  {
   "cell_type": "code",
   "execution_count": null,
   "metadata": {},
   "outputs": [],
   "source": []
  },
  {
   "cell_type": "code",
   "execution_count": null,
   "metadata": {},
   "outputs": [],
   "source": []
  },
  {
   "cell_type": "code",
   "execution_count": null,
   "metadata": {},
   "outputs": [],
   "source": []
  },
  {
   "cell_type": "code",
   "execution_count": null,
   "metadata": {},
   "outputs": [],
   "source": []
  },
  {
   "cell_type": "code",
   "execution_count": 36,
   "metadata": {},
   "outputs": [],
   "source": [
    "#the IMDB dataset locate in my E disk\n",
    "df1 = pd.read_excel('E:\\IMDB-dataset.xlsx') # can also index sheet by name or fetch all sheets\n",
    "l1 = list(df1['Movie']) "
   ]
  },
  {
   "cell_type": "code",
   "execution_count": null,
   "metadata": {},
   "outputs": [],
   "source": []
  },
  {
   "cell_type": "code",
   "execution_count": null,
   "metadata": {},
   "outputs": [],
   "source": []
  }
 ],
 "metadata": {
  "kernelspec": {
   "display_name": "Python 3",
   "language": "python",
   "name": "python3"
  },
  "language_info": {
   "codemirror_mode": {
    "name": "ipython",
    "version": 3
   },
   "file_extension": ".py",
   "mimetype": "text/x-python",
   "name": "python",
   "nbconvert_exporter": "python",
   "pygments_lexer": "ipython3",
   "version": "3.7.6"
  }
 },
 "nbformat": 4,
 "nbformat_minor": 4
}
